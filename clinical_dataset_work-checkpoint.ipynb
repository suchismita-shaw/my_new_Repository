{
 "cells": [
  {
   "cell_type": "code",
   "execution_count": 2,
   "id": "bbdeb465-3dfa-4319-9f9e-590842d70470",
   "metadata": {},
   "outputs": [],
   "source": [
    "import pandas as pd "
   ]
  },
  {
   "cell_type": "code",
   "execution_count": 3,
   "id": "c658796b-2d47-4780-a21f-50f04d68a07f",
   "metadata": {},
   "outputs": [],
   "source": [
    "df= pd.read_csv(\"clinical_trial_data - Sheet1.csv\")"
   ]
  },
  {
   "cell_type": "code",
   "execution_count": 4,
   "id": "1f27aae1-170b-4feb-8837-e51ad31cb6af",
   "metadata": {},
   "outputs": [
    {
     "data": {
      "text/html": [
       "<div>\n",
       "<style scoped>\n",
       "    .dataframe tbody tr th:only-of-type {\n",
       "        vertical-align: middle;\n",
       "    }\n",
       "\n",
       "    .dataframe tbody tr th {\n",
       "        vertical-align: top;\n",
       "    }\n",
       "\n",
       "    .dataframe thead th {\n",
       "        text-align: right;\n",
       "    }\n",
       "</style>\n",
       "<table border=\"1\" class=\"dataframe\">\n",
       "  <thead>\n",
       "    <tr style=\"text-align: right;\">\n",
       "      <th></th>\n",
       "      <th>patient_id</th>\n",
       "      <th>age</th>\n",
       "      <th>gender</th>\n",
       "      <th>blood_pressure</th>\n",
       "      <th>treatment_group</th>\n",
       "      <th>outcome</th>\n",
       "    </tr>\n",
       "  </thead>\n",
       "  <tbody>\n",
       "    <tr>\n",
       "      <th>0</th>\n",
       "      <td>1</td>\n",
       "      <td>34</td>\n",
       "      <td>M</td>\n",
       "      <td>120</td>\n",
       "      <td>A</td>\n",
       "      <td>1</td>\n",
       "    </tr>\n",
       "    <tr>\n",
       "      <th>1</th>\n",
       "      <td>2</td>\n",
       "      <td>45</td>\n",
       "      <td>F</td>\n",
       "      <td>130</td>\n",
       "      <td>B</td>\n",
       "      <td>0</td>\n",
       "    </tr>\n",
       "    <tr>\n",
       "      <th>2</th>\n",
       "      <td>3</td>\n",
       "      <td>50</td>\n",
       "      <td>M</td>\n",
       "      <td>140</td>\n",
       "      <td>A</td>\n",
       "      <td>1</td>\n",
       "    </tr>\n",
       "    <tr>\n",
       "      <th>3</th>\n",
       "      <td>4</td>\n",
       "      <td>60</td>\n",
       "      <td>F</td>\n",
       "      <td>135</td>\n",
       "      <td>B</td>\n",
       "      <td>1</td>\n",
       "    </tr>\n",
       "    <tr>\n",
       "      <th>4</th>\n",
       "      <td>5</td>\n",
       "      <td>39</td>\n",
       "      <td>M</td>\n",
       "      <td>125</td>\n",
       "      <td>A</td>\n",
       "      <td>0</td>\n",
       "    </tr>\n",
       "    <tr>\n",
       "      <th>5</th>\n",
       "      <td>6</td>\n",
       "      <td>48</td>\n",
       "      <td>F</td>\n",
       "      <td>132</td>\n",
       "      <td>B</td>\n",
       "      <td>1</td>\n",
       "    </tr>\n",
       "    <tr>\n",
       "      <th>6</th>\n",
       "      <td>7</td>\n",
       "      <td>55</td>\n",
       "      <td>M</td>\n",
       "      <td>128</td>\n",
       "      <td>A</td>\n",
       "      <td>1</td>\n",
       "    </tr>\n",
       "    <tr>\n",
       "      <th>7</th>\n",
       "      <td>8</td>\n",
       "      <td>65</td>\n",
       "      <td>F</td>\n",
       "      <td>145</td>\n",
       "      <td>B</td>\n",
       "      <td>0</td>\n",
       "    </tr>\n",
       "    <tr>\n",
       "      <th>8</th>\n",
       "      <td>9</td>\n",
       "      <td>42</td>\n",
       "      <td>M</td>\n",
       "      <td>138</td>\n",
       "      <td>A</td>\n",
       "      <td>1</td>\n",
       "    </tr>\n",
       "    <tr>\n",
       "      <th>9</th>\n",
       "      <td>10</td>\n",
       "      <td>53</td>\n",
       "      <td>F</td>\n",
       "      <td>133</td>\n",
       "      <td>B</td>\n",
       "      <td>1</td>\n",
       "    </tr>\n",
       "    <tr>\n",
       "      <th>10</th>\n",
       "      <td>11</td>\n",
       "      <td>36</td>\n",
       "      <td>F</td>\n",
       "      <td>126</td>\n",
       "      <td>A</td>\n",
       "      <td>0</td>\n",
       "    </tr>\n",
       "    <tr>\n",
       "      <th>11</th>\n",
       "      <td>12</td>\n",
       "      <td>47</td>\n",
       "      <td>M</td>\n",
       "      <td>140</td>\n",
       "      <td>B</td>\n",
       "      <td>1</td>\n",
       "    </tr>\n",
       "    <tr>\n",
       "      <th>12</th>\n",
       "      <td>13</td>\n",
       "      <td>59</td>\n",
       "      <td>F</td>\n",
       "      <td>135</td>\n",
       "      <td>A</td>\n",
       "      <td>1</td>\n",
       "    </tr>\n",
       "    <tr>\n",
       "      <th>13</th>\n",
       "      <td>14</td>\n",
       "      <td>52</td>\n",
       "      <td>M</td>\n",
       "      <td>137</td>\n",
       "      <td>B</td>\n",
       "      <td>0</td>\n",
       "    </tr>\n",
       "    <tr>\n",
       "      <th>14</th>\n",
       "      <td>15</td>\n",
       "      <td>41</td>\n",
       "      <td>F</td>\n",
       "      <td>129</td>\n",
       "      <td>A</td>\n",
       "      <td>1</td>\n",
       "    </tr>\n",
       "    <tr>\n",
       "      <th>15</th>\n",
       "      <td>16</td>\n",
       "      <td>64</td>\n",
       "      <td>M</td>\n",
       "      <td>145</td>\n",
       "      <td>B</td>\n",
       "      <td>1</td>\n",
       "    </tr>\n",
       "    <tr>\n",
       "      <th>16</th>\n",
       "      <td>17</td>\n",
       "      <td>38</td>\n",
       "      <td>F</td>\n",
       "      <td>120</td>\n",
       "      <td>A</td>\n",
       "      <td>0</td>\n",
       "    </tr>\n",
       "    <tr>\n",
       "      <th>17</th>\n",
       "      <td>18</td>\n",
       "      <td>49</td>\n",
       "      <td>M</td>\n",
       "      <td>130</td>\n",
       "      <td>B</td>\n",
       "      <td>1</td>\n",
       "    </tr>\n",
       "    <tr>\n",
       "      <th>18</th>\n",
       "      <td>19</td>\n",
       "      <td>57</td>\n",
       "      <td>F</td>\n",
       "      <td>134</td>\n",
       "      <td>A</td>\n",
       "      <td>1</td>\n",
       "    </tr>\n",
       "    <tr>\n",
       "      <th>19</th>\n",
       "      <td>20</td>\n",
       "      <td>46</td>\n",
       "      <td>M</td>\n",
       "      <td>136</td>\n",
       "      <td>B</td>\n",
       "      <td>0</td>\n",
       "    </tr>\n",
       "  </tbody>\n",
       "</table>\n",
       "</div>"
      ],
      "text/plain": [
       "    patient_id  age gender  blood_pressure treatment_group  outcome\n",
       "0            1   34      M             120               A        1\n",
       "1            2   45      F             130               B        0\n",
       "2            3   50      M             140               A        1\n",
       "3            4   60      F             135               B        1\n",
       "4            5   39      M             125               A        0\n",
       "5            6   48      F             132               B        1\n",
       "6            7   55      M             128               A        1\n",
       "7            8   65      F             145               B        0\n",
       "8            9   42      M             138               A        1\n",
       "9           10   53      F             133               B        1\n",
       "10          11   36      F             126               A        0\n",
       "11          12   47      M             140               B        1\n",
       "12          13   59      F             135               A        1\n",
       "13          14   52      M             137               B        0\n",
       "14          15   41      F             129               A        1\n",
       "15          16   64      M             145               B        1\n",
       "16          17   38      F             120               A        0\n",
       "17          18   49      M             130               B        1\n",
       "18          19   57      F             134               A        1\n",
       "19          20   46      M             136               B        0"
      ]
     },
     "execution_count": 4,
     "metadata": {},
     "output_type": "execute_result"
    }
   ],
   "source": [
    "df"
   ]
  },
  {
   "cell_type": "code",
   "execution_count": 5,
   "id": "56f1291e-c02f-41ac-98fc-0c84b4b266a9",
   "metadata": {},
   "outputs": [
    {
     "name": "stdout",
     "output_type": "stream",
     "text": [
      "    patient_id    age  gender  blood_pressure  treatment_group  outcome\n",
      "0        False  False   False           False            False    False\n",
      "1        False  False   False           False            False    False\n",
      "2        False  False   False           False            False    False\n",
      "3        False  False   False           False            False    False\n",
      "4        False  False   False           False            False    False\n",
      "5        False  False   False           False            False    False\n",
      "6        False  False   False           False            False    False\n",
      "7        False  False   False           False            False    False\n",
      "8        False  False   False           False            False    False\n",
      "9        False  False   False           False            False    False\n",
      "10       False  False   False           False            False    False\n",
      "11       False  False   False           False            False    False\n",
      "12       False  False   False           False            False    False\n",
      "13       False  False   False           False            False    False\n",
      "14       False  False   False           False            False    False\n",
      "15       False  False   False           False            False    False\n",
      "16       False  False   False           False            False    False\n",
      "17       False  False   False           False            False    False\n",
      "18       False  False   False           False            False    False\n",
      "19       False  False   False           False            False    False\n"
     ]
    }
   ],
   "source": [
    "missing_values = df.isnull()\n",
    "print(missing_values)"
   ]
  },
  {
   "cell_type": "code",
   "execution_count": 6,
   "id": "ab072ee3-2197-4642-9f3e-27a140dbc9d9",
   "metadata": {},
   "outputs": [
    {
     "name": "stdout",
     "output_type": "stream",
     "text": [
      "patient_id         0\n",
      "age                0\n",
      "gender             0\n",
      "blood_pressure     0\n",
      "treatment_group    0\n",
      "outcome            0\n",
      "dtype: int64\n"
     ]
    }
   ],
   "source": [
    "missing_values = df.isnull().sum()\n",
    "print(missing_values)"
   ]
  },
  {
   "cell_type": "code",
   "execution_count": 7,
   "id": "67e824a6-838c-4543-a132-bab98c6a9088",
   "metadata": {},
   "outputs": [
    {
     "name": "stdout",
     "output_type": "stream",
     "text": [
      "Index(['patient_id', 'age', 'gender', 'blood_pressure', 'treatment_group',\n",
      "       'outcome'],\n",
      "      dtype='object')\n"
     ]
    }
   ],
   "source": [
    "print(df.columns)\n"
   ]
  },
  {
   "cell_type": "code",
   "execution_count": 8,
   "id": "3d34ad56-43fa-4cc5-831a-0c603cce0344",
   "metadata": {},
   "outputs": [
    {
     "data": {
      "text/html": [
       "<div>\n",
       "<style scoped>\n",
       "    .dataframe tbody tr th:only-of-type {\n",
       "        vertical-align: middle;\n",
       "    }\n",
       "\n",
       "    .dataframe tbody tr th {\n",
       "        vertical-align: top;\n",
       "    }\n",
       "\n",
       "    .dataframe thead th {\n",
       "        text-align: right;\n",
       "    }\n",
       "</style>\n",
       "<table border=\"1\" class=\"dataframe\">\n",
       "  <thead>\n",
       "    <tr style=\"text-align: right;\">\n",
       "      <th></th>\n",
       "      <th>patient_id</th>\n",
       "      <th>age</th>\n",
       "      <th>gender</th>\n",
       "      <th>blood_pressure</th>\n",
       "      <th>treatment_group</th>\n",
       "      <th>outcome</th>\n",
       "    </tr>\n",
       "  </thead>\n",
       "  <tbody>\n",
       "    <tr>\n",
       "      <th>0</th>\n",
       "      <td>1</td>\n",
       "      <td>34</td>\n",
       "      <td>M</td>\n",
       "      <td>120</td>\n",
       "      <td>A</td>\n",
       "      <td>1</td>\n",
       "    </tr>\n",
       "    <tr>\n",
       "      <th>1</th>\n",
       "      <td>2</td>\n",
       "      <td>45</td>\n",
       "      <td>F</td>\n",
       "      <td>130</td>\n",
       "      <td>B</td>\n",
       "      <td>0</td>\n",
       "    </tr>\n",
       "    <tr>\n",
       "      <th>2</th>\n",
       "      <td>3</td>\n",
       "      <td>50</td>\n",
       "      <td>M</td>\n",
       "      <td>140</td>\n",
       "      <td>A</td>\n",
       "      <td>1</td>\n",
       "    </tr>\n",
       "    <tr>\n",
       "      <th>3</th>\n",
       "      <td>4</td>\n",
       "      <td>60</td>\n",
       "      <td>F</td>\n",
       "      <td>135</td>\n",
       "      <td>B</td>\n",
       "      <td>1</td>\n",
       "    </tr>\n",
       "    <tr>\n",
       "      <th>4</th>\n",
       "      <td>5</td>\n",
       "      <td>39</td>\n",
       "      <td>M</td>\n",
       "      <td>125</td>\n",
       "      <td>A</td>\n",
       "      <td>0</td>\n",
       "    </tr>\n",
       "    <tr>\n",
       "      <th>5</th>\n",
       "      <td>6</td>\n",
       "      <td>48</td>\n",
       "      <td>F</td>\n",
       "      <td>132</td>\n",
       "      <td>B</td>\n",
       "      <td>1</td>\n",
       "    </tr>\n",
       "    <tr>\n",
       "      <th>6</th>\n",
       "      <td>7</td>\n",
       "      <td>55</td>\n",
       "      <td>M</td>\n",
       "      <td>128</td>\n",
       "      <td>A</td>\n",
       "      <td>1</td>\n",
       "    </tr>\n",
       "    <tr>\n",
       "      <th>7</th>\n",
       "      <td>8</td>\n",
       "      <td>65</td>\n",
       "      <td>F</td>\n",
       "      <td>145</td>\n",
       "      <td>B</td>\n",
       "      <td>0</td>\n",
       "    </tr>\n",
       "    <tr>\n",
       "      <th>8</th>\n",
       "      <td>9</td>\n",
       "      <td>42</td>\n",
       "      <td>M</td>\n",
       "      <td>138</td>\n",
       "      <td>A</td>\n",
       "      <td>1</td>\n",
       "    </tr>\n",
       "    <tr>\n",
       "      <th>9</th>\n",
       "      <td>10</td>\n",
       "      <td>53</td>\n",
       "      <td>F</td>\n",
       "      <td>133</td>\n",
       "      <td>B</td>\n",
       "      <td>1</td>\n",
       "    </tr>\n",
       "    <tr>\n",
       "      <th>10</th>\n",
       "      <td>11</td>\n",
       "      <td>36</td>\n",
       "      <td>F</td>\n",
       "      <td>126</td>\n",
       "      <td>A</td>\n",
       "      <td>0</td>\n",
       "    </tr>\n",
       "    <tr>\n",
       "      <th>11</th>\n",
       "      <td>12</td>\n",
       "      <td>47</td>\n",
       "      <td>M</td>\n",
       "      <td>140</td>\n",
       "      <td>B</td>\n",
       "      <td>1</td>\n",
       "    </tr>\n",
       "    <tr>\n",
       "      <th>12</th>\n",
       "      <td>13</td>\n",
       "      <td>59</td>\n",
       "      <td>F</td>\n",
       "      <td>135</td>\n",
       "      <td>A</td>\n",
       "      <td>1</td>\n",
       "    </tr>\n",
       "    <tr>\n",
       "      <th>13</th>\n",
       "      <td>14</td>\n",
       "      <td>52</td>\n",
       "      <td>M</td>\n",
       "      <td>137</td>\n",
       "      <td>B</td>\n",
       "      <td>0</td>\n",
       "    </tr>\n",
       "    <tr>\n",
       "      <th>14</th>\n",
       "      <td>15</td>\n",
       "      <td>41</td>\n",
       "      <td>F</td>\n",
       "      <td>129</td>\n",
       "      <td>A</td>\n",
       "      <td>1</td>\n",
       "    </tr>\n",
       "    <tr>\n",
       "      <th>15</th>\n",
       "      <td>16</td>\n",
       "      <td>64</td>\n",
       "      <td>M</td>\n",
       "      <td>145</td>\n",
       "      <td>B</td>\n",
       "      <td>1</td>\n",
       "    </tr>\n",
       "    <tr>\n",
       "      <th>16</th>\n",
       "      <td>17</td>\n",
       "      <td>38</td>\n",
       "      <td>F</td>\n",
       "      <td>120</td>\n",
       "      <td>A</td>\n",
       "      <td>0</td>\n",
       "    </tr>\n",
       "    <tr>\n",
       "      <th>17</th>\n",
       "      <td>18</td>\n",
       "      <td>49</td>\n",
       "      <td>M</td>\n",
       "      <td>130</td>\n",
       "      <td>B</td>\n",
       "      <td>1</td>\n",
       "    </tr>\n",
       "    <tr>\n",
       "      <th>18</th>\n",
       "      <td>19</td>\n",
       "      <td>57</td>\n",
       "      <td>F</td>\n",
       "      <td>134</td>\n",
       "      <td>A</td>\n",
       "      <td>1</td>\n",
       "    </tr>\n",
       "    <tr>\n",
       "      <th>19</th>\n",
       "      <td>20</td>\n",
       "      <td>46</td>\n",
       "      <td>M</td>\n",
       "      <td>136</td>\n",
       "      <td>B</td>\n",
       "      <td>0</td>\n",
       "    </tr>\n",
       "  </tbody>\n",
       "</table>\n",
       "</div>"
      ],
      "text/plain": [
       "    patient_id  age gender  blood_pressure treatment_group  outcome\n",
       "0            1   34      M             120               A        1\n",
       "1            2   45      F             130               B        0\n",
       "2            3   50      M             140               A        1\n",
       "3            4   60      F             135               B        1\n",
       "4            5   39      M             125               A        0\n",
       "5            6   48      F             132               B        1\n",
       "6            7   55      M             128               A        1\n",
       "7            8   65      F             145               B        0\n",
       "8            9   42      M             138               A        1\n",
       "9           10   53      F             133               B        1\n",
       "10          11   36      F             126               A        0\n",
       "11          12   47      M             140               B        1\n",
       "12          13   59      F             135               A        1\n",
       "13          14   52      M             137               B        0\n",
       "14          15   41      F             129               A        1\n",
       "15          16   64      M             145               B        1\n",
       "16          17   38      F             120               A        0\n",
       "17          18   49      M             130               B        1\n",
       "18          19   57      F             134               A        1\n",
       "19          20   46      M             136               B        0"
      ]
     },
     "execution_count": 8,
     "metadata": {},
     "output_type": "execute_result"
    }
   ],
   "source": [
    "df"
   ]
  },
  {
   "cell_type": "code",
   "execution_count": 9,
   "id": "909ef0eb-e51f-4acd-8bb8-e2fa243ef380",
   "metadata": {},
   "outputs": [
    {
     "name": "stdout",
     "output_type": "stream",
     "text": [
      "patient_id          int64\n",
      "age                 int64\n",
      "gender             object\n",
      "blood_pressure      int64\n",
      "treatment_group    object\n",
      "outcome             int64\n",
      "dtype: object\n"
     ]
    }
   ],
   "source": [
    "print(df.dtypes)"
   ]
  },
  {
   "cell_type": "code",
   "execution_count": 10,
   "id": "b26a2c5e-5a9b-4fd0-9883-4e39ffa291b3",
   "metadata": {},
   "outputs": [
    {
     "data": {
      "text/html": [
       "<div>\n",
       "<style scoped>\n",
       "    .dataframe tbody tr th:only-of-type {\n",
       "        vertical-align: middle;\n",
       "    }\n",
       "\n",
       "    .dataframe tbody tr th {\n",
       "        vertical-align: top;\n",
       "    }\n",
       "\n",
       "    .dataframe thead th {\n",
       "        text-align: right;\n",
       "    }\n",
       "</style>\n",
       "<table border=\"1\" class=\"dataframe\">\n",
       "  <thead>\n",
       "    <tr style=\"text-align: right;\">\n",
       "      <th></th>\n",
       "      <th>gender</th>\n",
       "      <th>outcome</th>\n",
       "      <th>counts</th>\n",
       "    </tr>\n",
       "  </thead>\n",
       "  <tbody>\n",
       "    <tr>\n",
       "      <th>0</th>\n",
       "      <td>F</td>\n",
       "      <td>0</td>\n",
       "      <td>4</td>\n",
       "    </tr>\n",
       "    <tr>\n",
       "      <th>1</th>\n",
       "      <td>F</td>\n",
       "      <td>1</td>\n",
       "      <td>6</td>\n",
       "    </tr>\n",
       "    <tr>\n",
       "      <th>2</th>\n",
       "      <td>M</td>\n",
       "      <td>0</td>\n",
       "      <td>3</td>\n",
       "    </tr>\n",
       "    <tr>\n",
       "      <th>3</th>\n",
       "      <td>M</td>\n",
       "      <td>1</td>\n",
       "      <td>7</td>\n",
       "    </tr>\n",
       "  </tbody>\n",
       "</table>\n",
       "</div>"
      ],
      "text/plain": [
       "  gender  outcome  counts\n",
       "0      F        0       4\n",
       "1      F        1       6\n",
       "2      M        0       3\n",
       "3      M        1       7"
      ]
     },
     "execution_count": 10,
     "metadata": {},
     "output_type": "execute_result"
    }
   ],
   "source": [
    "# Group the data by 'gender' and 'outcome' and count the occurrences\n",
    "gender_outcome_counts = df.groupby(['gender', 'outcome']).size().reset_index(name='counts')\n",
    "\n",
    "gender_outcome_counts\n"
   ]
  },
  {
   "cell_type": "code",
   "execution_count": 11,
   "id": "f8af7fe6-5f6b-4f48-b7ff-1a063c060129",
   "metadata": {},
   "outputs": [
    {
     "name": "stdout",
     "output_type": "stream",
     "text": [
      "    patient_id  age gender  blood_pressure treatment_group outcome\n",
      "0            1   34      M           120.0               A       1\n",
      "1            2   45      F           130.0               B       0\n",
      "2            3   50      M           140.0               A       1\n",
      "3            4   60      F           135.0               B       1\n",
      "4            5   39      M           125.0               A       0\n",
      "5            6   48      F           132.0               B       1\n",
      "6            7   55      M           128.0               A       1\n",
      "7            8   65      F           145.0               B       0\n",
      "8            9   42      M           138.0               A       1\n",
      "9           10   53      F           133.0               B       1\n",
      "10          11   36      F           126.0               A       0\n",
      "11          12   47      M           140.0               B       1\n",
      "12          13   59      F           135.0               A       1\n",
      "13          14   52      M           137.0               B       0\n",
      "14          15   41      F           129.0               A       1\n",
      "15          16   64      M           145.0               B       1\n",
      "16          17   38      F           120.0               A       0\n",
      "17          18   49      M           130.0               B       1\n",
      "18          19   57      F           134.0               A       1\n",
      "19          20   46      M           136.0               B       0\n"
     ]
    }
   ],
   "source": [
    "df['age'] = df['age'].astype(int)\n",
    "df['gender'] = df['gender'].astype('category')\n",
    "df['blood_pressure'] = df['blood_pressure'].astype(float)\n",
    "df['treatment_group'] = df['treatment_group'].astype('category')\n",
    "df['outcome'] = df['outcome'].astype('category')\n",
    "print(df)\n"
   ]
  },
  {
   "cell_type": "code",
   "execution_count": 12,
   "id": "3deb5f06-e514-46d5-ab20-1aeb51ec5006",
   "metadata": {},
   "outputs": [
    {
     "name": "stdout",
     "output_type": "stream",
     "text": [
      "patient_id            int64\n",
      "age                   int64\n",
      "gender             category\n",
      "blood_pressure      float64\n",
      "treatment_group    category\n",
      "outcome            category\n",
      "dtype: object\n"
     ]
    }
   ],
   "source": [
    "print(df.dtypes)"
   ]
  },
  {
   "cell_type": "code",
   "execution_count": 13,
   "id": "04c5d575-d904-4924-a3ee-b3f570b064b1",
   "metadata": {},
   "outputs": [
    {
     "name": "stdout",
     "output_type": "stream",
     "text": [
      "Mean Age: 49.0\n",
      "Median Age: 48.5\n",
      "Mean Blood Pressure: 132.9\n",
      "Median Blood Pressure: 133.5\n"
     ]
    }
   ],
   "source": [
    "mean_age = df['age'].mean()\n",
    "median_age = df['age'].median()\n",
    "\n",
    "\n",
    "mean_blood_pressure = df['blood_pressure'].mean()\n",
    "median_blood_pressure = df['blood_pressure'].median()\n",
    "\n",
    "print(f\"Mean Age: {mean_age}\")\n",
    "print(f\"Median Age: {median_age}\")\n",
    "print(f\"Mean Blood Pressure: {mean_blood_pressure}\")\n",
    "print(f\"Median Blood Pressure: {median_blood_pressure}\")"
   ]
  },
  {
   "cell_type": "code",
   "execution_count": 14,
   "id": "290ced0c-4901-4a0b-9342-a22cec883ce3",
   "metadata": {},
   "outputs": [
    {
     "name": "stdout",
     "output_type": "stream",
     "text": [
      "0     34\n",
      "1     45\n",
      "2     50\n",
      "3     60\n",
      "4     39\n",
      "5     48\n",
      "6     55\n",
      "7     65\n",
      "8     42\n",
      "9     53\n",
      "10    36\n",
      "11    47\n",
      "12    59\n",
      "13    52\n",
      "14    41\n",
      "15    64\n",
      "16    38\n",
      "17    49\n",
      "18    57\n",
      "19    46\n",
      "Name: age, dtype: int64\n",
      "0     120.0\n",
      "1     130.0\n",
      "2     140.0\n",
      "3     135.0\n",
      "4     125.0\n",
      "5     132.0\n",
      "6     128.0\n",
      "7     145.0\n",
      "8     138.0\n",
      "9     133.0\n",
      "10    126.0\n",
      "11    140.0\n",
      "12    135.0\n",
      "13    137.0\n",
      "14    129.0\n",
      "15    145.0\n",
      "16    120.0\n",
      "17    130.0\n",
      "18    134.0\n",
      "19    136.0\n",
      "Name: blood_pressure, dtype: float64\n"
     ]
    }
   ],
   "source": [
    "# Impute missing values with mean\n",
    "df['age'] = df['age'].fillna(df['age'].mean())\n",
    "df['blood_pressure'] = df['blood_pressure'].fillna(df['blood_pressure'].mean())\n",
    "print(df[\"age\"])\n",
    "print(df['blood_pressure'])"
   ]
  },
  {
   "cell_type": "code",
   "execution_count": 15,
   "id": "17889d30-81f5-4fec-97bc-89855e7d511e",
   "metadata": {},
   "outputs": [
    {
     "name": "stdout",
     "output_type": "stream",
     "text": [
      "0     M\n",
      "1     F\n",
      "2     M\n",
      "3     F\n",
      "4     M\n",
      "5     F\n",
      "6     M\n",
      "7     F\n",
      "8     M\n",
      "9     F\n",
      "10    F\n",
      "11    M\n",
      "12    F\n",
      "13    M\n",
      "14    F\n",
      "15    M\n",
      "16    F\n",
      "17    M\n",
      "18    F\n",
      "19    M\n",
      "Name: gender, dtype: category\n",
      "Categories (2, object): ['F', 'M']\n",
      "0     A\n",
      "1     B\n",
      "2     A\n",
      "3     B\n",
      "4     A\n",
      "5     B\n",
      "6     A\n",
      "7     B\n",
      "8     A\n",
      "9     B\n",
      "10    A\n",
      "11    B\n",
      "12    A\n",
      "13    B\n",
      "14    A\n",
      "15    B\n",
      "16    A\n",
      "17    B\n",
      "18    A\n",
      "19    B\n",
      "Name: treatment_group, dtype: category\n",
      "Categories (2, object): ['A', 'B']\n",
      "0     1\n",
      "1     0\n",
      "2     1\n",
      "3     1\n",
      "4     0\n",
      "5     1\n",
      "6     1\n",
      "7     0\n",
      "8     1\n",
      "9     1\n",
      "10    0\n",
      "11    1\n",
      "12    1\n",
      "13    0\n",
      "14    1\n",
      "15    1\n",
      "16    0\n",
      "17    1\n",
      "18    1\n",
      "19    0\n",
      "Name: outcome, dtype: category\n",
      "Categories (2, int64): [0, 1]\n"
     ]
    }
   ],
   "source": [
    "# Impute missing values with mode\n",
    "df['gender'] = df['gender'].fillna(df['gender'].mode()[0])\n",
    "print(df['gender'] )\n",
    "df['treatment_group'] = df['treatment_group'].fillna(df['treatment_group'].mode()[0])\n",
    "print(df['treatment_group'])\n",
    "df['outcome'] = df['outcome'].fillna(df['outcome'].mode()[0])\n",
    "print(df['outcome'] )"
   ]
  },
  {
   "cell_type": "code",
   "execution_count": 16,
   "id": "2e253449-1ed7-4cfa-af6c-2c678039b498",
   "metadata": {},
   "outputs": [
    {
     "name": "stdout",
     "output_type": "stream",
     "text": [
      "       patient_id        age  blood_pressure\n",
      "count    20.00000  20.000000        20.00000\n",
      "mean     10.50000  49.000000       132.90000\n",
      "std       5.91608   9.136393         7.09262\n",
      "min       1.00000  34.000000       120.00000\n",
      "25%       5.75000  41.750000       128.75000\n",
      "50%      10.50000  48.500000       133.50000\n",
      "75%      15.25000  55.500000       137.25000\n",
      "max      20.00000  65.000000       145.00000\n"
     ]
    }
   ],
   "source": [
    "# Summary statistics for numerical columns\n",
    "summary_stats = df.describe()\n",
    "print(summary_stats)\n"
   ]
  },
  {
   "cell_type": "code",
   "execution_count": 17,
   "id": "e8845110-bf83-4f75-ae5c-7f8e880aca74",
   "metadata": {},
   "outputs": [],
   "source": [
    "import matplotlib.pyplot as plt"
   ]
  },
  {
   "cell_type": "code",
   "execution_count": 35,
   "id": "c8269537-22b8-4a2c-a537-8dda651c7d6b",
   "metadata": {},
   "outputs": [
    {
     "data": {
      "image/png": "[encoded data removed]",
      "text/plain": [
       "<Figure size 1000x600 with 1 Axes>"
      ]
     },
     "metadata": {},
     "output_type": "display_data"
    }
   ],
   "source": [
    "import matplotlib.pyplot as plt\n",
    "\n",
    "# Create a histogram for the 'age' column\n",
    "plt.figure(figsize=(10, 6))  # Adjust the size to fit better\n",
    "plt.hist(df['age'], bins=20, color=\"#CD5C5C\", edgecolor='black')\n",
    "\n",
    "# Add titles and labels\n",
    "plt.title('Age Distribution', fontsize=16)\n",
    "plt.xlabel('Age', fontsize=14)\n",
    "plt.ylabel('Frequency', fontsize=14)\n",
    "\n",
    "# Display the plot\n",
    "plt.show()\n"
   ]
  },
  {
   "cell_type": "code",
   "execution_count": 19,
   "id": "dcfff268-7b55-44fa-b3bc-6bd3092f3c2a",
   "metadata": {},
   "outputs": [
    {
     "data": {
      "image/png": "[encoded data removed]",
      "text/plain": [
       "<Figure size 1000x600 with 1 Axes>"
      ]
     },
     "metadata": {},
     "output_type": "display_data"
    }
   ],
   "source": [
    "plt.figure(figsize=(10, 6))  # Adjust the size to fit better\n",
    "plt.hist(df['blood_pressure'], bins=20, color=\"#CD5C5C\", edgecolor='black')\n",
    "\n",
    "# Add titles and labels\n",
    "plt.title('Blood Pressure by Treatment Group', fontsize=16)\n",
    "plt.xlabel('Treatment Group', fontsize=14)\n",
    "plt.ylabel('Blood Pressure', fontsize=14)\n",
    "\n",
    "# Display the plot\n",
    "plt.show()"
   ]
  },
  {
   "cell_type": "code",
   "execution_count": 20,
   "id": "e9b62ee2-f597-4d87-86cc-76435bf1fdd1",
   "metadata": {},
   "outputs": [
    {
     "data": {
      "image/png": "[encoded data removed]",
      "text/plain": [
       "<Figure size 640x480 with 1 Axes>"
      ]
     },
     "metadata": {},
     "output_type": "display_data"
    }
   ],
   "source": [
    "df.boxplot(column='age', by='treatment_group')\n",
    "plt.title('Age Distribution by Treatment Group')\n",
    "plt.suptitle('')\n",
    "plt.xlabel('Treatment Group')\n",
    "plt.ylabel('Age')\n",
    "plt.show()"
   ]
  },
  {
   "cell_type": "code",
   "execution_count": 21,
   "id": "9412a6ad-b556-4d1f-bbd7-b9a69234f59d",
   "metadata": {},
   "outputs": [
    {
     "data": {
      "image/png": "[encoded data removed]",
      "text/plain": [
       "<Figure size 640x480 with 1 Axes>"
      ]
     },
     "metadata": {},
     "output_type": "display_data"
    }
   ],
   "source": [
    "df.boxplot(column='blood_pressure', by='treatment_group')\n",
    "plt.title('Blood Pressure Distribution by Treatment Group')\n",
    "plt.suptitle('')\n",
    "plt.xlabel('Treatment Group')\n",
    "plt.ylabel('Blood Pressure')\n",
    "plt.show()"
   ]
  },
  {
   "cell_type": "markdown",
   "id": "32f48faa-6773-4ded-b9b7-b840baef32fa",
   "metadata": {},
   "source": [
    "#Explore relationships between variables:\n"
   ]
  },
  {
   "cell_type": "code",
   "execution_count": 22,
   "id": "1cdfd56a-1907-4d38-96c8-db71e321d25b",
   "metadata": {},
   "outputs": [
    {
     "data": {
      "image/png": "[encoded data removed]",
      "text/plain": [
       "<Figure size 1000x500 with 1 Axes>"
      ]
     },
     "metadata": {},
     "output_type": "display_data"
    }
   ],
   "source": [
    "import seaborn as sns\n",
    "plt.figure(figsize=(10, 5))\n",
    "sns.scatterplot(x='age', y='blood_pressure', hue='treatment_group', data=df)\n",
    "plt.title('Age vs. Blood Pressure by Treatment Group')\n",
    "plt.xlabel('Age')\n",
    "plt.ylabel('Blood Pressure')\n",
    "plt.show()\n"
   ]
  },
  {
   "cell_type": "code",
   "execution_count": 23,
   "id": "2e303283-4452-4a97-b3fb-35c9f0dce2af",
   "metadata": {},
   "outputs": [
    {
     "name": "stdout",
     "output_type": "stream",
     "text": [
      "                patient_id       age  blood_pressure\n",
      "patient_id        1.000000  0.141191        0.145500\n",
      "age               0.141191  1.000000        0.736669\n",
      "blood_pressure    0.145500  0.736669        1.000000\n"
     ]
    }
   ],
   "source": [
    "# Select only numerical columns\n",
    "numerical_df = df.select_dtypes(include=['float64', 'int64'])\n",
    "\n",
    "# Correlation matrix\n",
    "correlation_matrix = numerical_df.corr()\n",
    "print(correlation_matrix)\n"
   ]
  },
  {
   "cell_type": "code",
   "execution_count": 24,
   "id": "23258665-bbf2-4b69-a92f-9ad6c7f31161",
   "metadata": {},
   "outputs": [
    {
     "data": {
      "image/png": "[encoded data removed]",
      "text/plain": [
       "<Figure size 600x400 with 2 Axes>"
      ]
     },
     "metadata": {},
     "output_type": "display_data"
    }
   ],
   "source": [
    "corr_matrix = df[['age', 'blood_pressure']].corr()\n",
    "plt.figure(figsize=(6, 4))\n",
    "sns.heatmap(corr_matrix, annot=True, cmap='coolwarm', center=0)\n",
    "plt.title('Correlation Matrix')\n",
    "plt.show()"
   ]
  },
  {
   "cell_type": "markdown",
   "id": "53f14c71-14cf-4e24-a444-b4e013797297",
   "metadata": {},
   "source": [
    "#statistics\n"
   ]
  },
  {
   "cell_type": "code",
   "execution_count": 25,
   "id": "06610393-7a7a-4a69-aabf-a249d1fbba69",
   "metadata": {},
   "outputs": [
    {
     "name": "stdout",
     "output_type": "stream",
     "text": [
      "Requirement already satisfied: scipy in c:\\users\\user\\appdata\\local\\programs\\python\\python312\\lib\\site-packages (1.14.1)\n",
      "Requirement already satisfied: numpy<2.3,>=1.23.5 in c:\\users\\user\\appdata\\local\\programs\\python\\python312\\lib\\site-packages (from scipy) (2.1.1)\n",
      "Note: you may need to restart the kernel to use updated packages.\n"
     ]
    },
    {
     "name": "stderr",
     "output_type": "stream",
     "text": [
      "\n",
      "[notice] A new release of pip is available: 24.0 -> 24.2\n",
      "[notice] To update, run: python.exe -m pip install --upgrade pip\n"
     ]
    }
   ],
   "source": [
    "pip install scipy\n"
   ]
  },
  {
   "cell_type": "code",
   "execution_count": 26,
   "id": "dbff2e3c-0e15-4824-b49d-b40e5ef72593",
   "metadata": {},
   "outputs": [
    {
     "name": "stdout",
     "output_type": "stream",
     "text": [
      "T-test results: t-statistic = nan, p-value = nan\n"
     ]
    },
    {
     "name": "stderr",
     "output_type": "stream",
     "text": [
      "C:\\Users\\User\\AppData\\Local\\Temp\\ipykernel_10332\\922369859.py:8: SmallSampleWarning: One or more sample arguments is too small; all returned values will be NaN. See documentation for sample size requirements.\n",
      "  t_stat, p_value = ttest_ind(group1, group2)\n"
     ]
    }
   ],
   "source": [
    "from scipy.stats import ttest_ind\n",
    "\n",
    "# Split the data by treatment group\n",
    "group1 = df[df['treatment_group'] == 'Group1']['age']\n",
    "group2 = df[df['treatment_group'] == 'Group2']['age']\n",
    "\n",
    "# Perform t-test\n",
    "t_stat, p_value = ttest_ind(group1, group2)\n",
    "print(f\"T-test results: t-statistic = {t_stat}, p-value = {p_value}\")"
   ]
  },
  {
   "cell_type": "code",
   "execution_count": 27,
   "id": "096ed0fe-ce76-412c-8847-a59fd2666ac0",
   "metadata": {},
   "outputs": [
    {
     "name": "stdout",
     "output_type": "stream",
     "text": [
      "Proportion of positive outcomes for each treatment group:\n",
      "outcome\n",
      "1    0.65\n",
      "0    0.35\n",
      "Name: proportion, dtype: float64\n"
     ]
    },
    {
     "data": {
      "image/png": "[encoded data removed]",
      "text/plain": [
       "<Figure size 640x480 with 1 Axes>"
      ]
     },
     "metadata": {},
     "output_type": "display_data"
    }
   ],
   "source": [
    "outcome_counts = df['outcome'].value_counts(normalize=True)\n",
    "print(\"Proportion of positive outcomes for each treatment group:\")\n",
    "print(outcome_counts)\n",
    "\n",
    "# Bar plot for outcomes\n",
    "outcome_counts.plot(kind='bar', title='Proportion of Outcomes')\n",
    "plt.xlabel('Outcome')\n",
    "plt.ylabel('Proportion')\n",
    "plt.show()"
   ]
  },
  {
   "cell_type": "code",
   "execution_count": 28,
   "id": "0b39620c-3c1e-4a19-b519-3ab805051b04",
   "metadata": {},
   "outputs": [
    {
     "name": "stdout",
     "output_type": "stream",
     "text": [
      "Chi-square test results: chi2 = 0.0, p-value = 1.0\n"
     ]
    }
   ],
   "source": [
    "from scipy.stats import chi2_contingency\n",
    "\n",
    "# Create a contingency table\n",
    "contingency_table = pd.crosstab(df['treatment_group'], df['outcome'])\n",
    "\n",
    "# Perform chi-square test\n",
    "chi2, p, _, _ = chi2_contingency(contingency_table)\n",
    "print(f\"Chi-square test results: chi2 = {chi2}, p-value = {p}\")"
   ]
  },
  {
   "cell_type": "code",
   "execution_count": 29,
   "id": "f0cda32e-eab6-4c1e-9e47-0ca8daa050c7",
   "metadata": {},
   "outputs": [
    {
     "name": "stderr",
     "output_type": "stream",
     "text": [
      "C:\\Users\\User\\AppData\\Local\\Temp\\ipykernel_10332\\2971104543.py:2: FutureWarning: The default of observed=False is deprecated and will be changed to True in a future version of pandas. Pass observed=False to retain current behavior or observed=True to adopt the future default and silence this warning.\n",
      "  total_blood_pressure = df.groupby('treatment_group')['blood_pressure'].sum().reset_index(name='total_blood_pressure')\n"
     ]
    },
    {
     "data": {
      "text/html": [
       "<div>\n",
       "<style scoped>\n",
       "    .dataframe tbody tr th:only-of-type {\n",
       "        vertical-align: middle;\n",
       "    }\n",
       "\n",
       "    .dataframe tbody tr th {\n",
       "        vertical-align: top;\n",
       "    }\n",
       "\n",
       "    .dataframe thead th {\n",
       "        text-align: right;\n",
       "    }\n",
       "</style>\n",
       "<table border=\"1\" class=\"dataframe\">\n",
       "  <thead>\n",
       "    <tr style=\"text-align: right;\">\n",
       "      <th></th>\n",
       "      <th>treatment_group</th>\n",
       "      <th>total_blood_pressure</th>\n",
       "    </tr>\n",
       "  </thead>\n",
       "  <tbody>\n",
       "    <tr>\n",
       "      <th>0</th>\n",
       "      <td>A</td>\n",
       "      <td>1295.0</td>\n",
       "    </tr>\n",
       "    <tr>\n",
       "      <th>1</th>\n",
       "      <td>B</td>\n",
       "      <td>1363.0</td>\n",
       "    </tr>\n",
       "  </tbody>\n",
       "</table>\n",
       "</div>"
      ],
      "text/plain": [
       "  treatment_group  total_blood_pressure\n",
       "0               A                1295.0\n",
       "1               B                1363.0"
      ]
     },
     "execution_count": 29,
     "metadata": {},
     "output_type": "execute_result"
    }
   ],
   "source": [
    "# Group the data by 'treatment_group' and sum the 'blood_pressure' values\n",
    "total_blood_pressure = df.groupby('treatment_group')['blood_pressure'].sum().reset_index(name='total_blood_pressure')\n",
    "\n",
    "total_blood_pressure\n"
   ]
  },
  {
   "cell_type": "code",
   "execution_count": 30,
   "id": "7a154fdd-3e67-441d-8ba2-5b3dc8a8141f",
   "metadata": {},
   "outputs": [
    {
     "data": {
      "text/plain": [
       "(0     120.0\n",
       " 2     140.0\n",
       " 4     125.0\n",
       " 6     128.0\n",
       " 8     138.0\n",
       " 10    126.0\n",
       " 12    135.0\n",
       " 14    129.0\n",
       " 16    120.0\n",
       " 18    134.0\n",
       " Name: blood_pressure, dtype: float64,\n",
       " 1     130.0\n",
       " 3     135.0\n",
       " 5     132.0\n",
       " 7     145.0\n",
       " 9     133.0\n",
       " 11    140.0\n",
       " 13    137.0\n",
       " 15    145.0\n",
       " 17    130.0\n",
       " 19    136.0\n",
       " Name: blood_pressure, dtype: float64)"
      ]
     },
     "execution_count": 30,
     "metadata": {},
     "output_type": "execute_result"
    }
   ],
   "source": [
    "# Blood pressure values for group A\n",
    "group_A_blood_pressure = df[df['treatment_group'] == 'A']['blood_pressure']\n",
    "\n",
    "# Blood pressure values for group B\n",
    "group_B_blood_pressure = df[df['treatment_group'] == 'B']['blood_pressure']\n",
    "\n",
    "group_A_blood_pressure, group_B_blood_pressure\n"
   ]
  },
  {
   "cell_type": "code",
   "execution_count": 31,
   "id": "61604d47-5a6a-44ab-869c-a3e0bfdb896b",
   "metadata": {},
   "outputs": [
    {
     "name": "stderr",
     "output_type": "stream",
     "text": [
      "C:\\Users\\User\\AppData\\Local\\Temp\\ipykernel_10332\\2227819066.py:2: FutureWarning: The default of observed=False is deprecated and will be changed to True in a future version of pandas. Pass observed=False to retain current behavior or observed=True to adopt the future default and silence this warning.\n",
      "  std_blood_pressure = df.groupby('treatment_group')['blood_pressure'].std().reset_index(name='std_blood_pressure')\n"
     ]
    },
    {
     "data": {
      "text/html": [
       "<div>\n",
       "<style scoped>\n",
       "    .dataframe tbody tr th:only-of-type {\n",
       "        vertical-align: middle;\n",
       "    }\n",
       "\n",
       "    .dataframe tbody tr th {\n",
       "        vertical-align: top;\n",
       "    }\n",
       "\n",
       "    .dataframe thead th {\n",
       "        text-align: right;\n",
       "    }\n",
       "</style>\n",
       "<table border=\"1\" class=\"dataframe\">\n",
       "  <thead>\n",
       "    <tr style=\"text-align: right;\">\n",
       "      <th></th>\n",
       "      <th>treatment_group</th>\n",
       "      <th>std_blood_pressure</th>\n",
       "    </tr>\n",
       "  </thead>\n",
       "  <tbody>\n",
       "    <tr>\n",
       "      <th>0</th>\n",
       "      <td>A</td>\n",
       "      <td>7.059273</td>\n",
       "    </tr>\n",
       "    <tr>\n",
       "      <th>1</th>\n",
       "      <td>B</td>\n",
       "      <td>5.538752</td>\n",
       "    </tr>\n",
       "  </tbody>\n",
       "</table>\n",
       "</div>"
      ],
      "text/plain": [
       "  treatment_group  std_blood_pressure\n",
       "0               A            7.059273\n",
       "1               B            5.538752"
      ]
     },
     "execution_count": 31,
     "metadata": {},
     "output_type": "execute_result"
    }
   ],
   "source": [
    "# Calculate standard deviation of blood pressure for each treatment group\n",
    "std_blood_pressure = df.groupby('treatment_group')['blood_pressure'].std().reset_index(name='std_blood_pressure')\n",
    "\n",
    "std_blood_pressure\n"
   ]
  },
  {
   "cell_type": "code",
   "execution_count": 32,
   "id": "b27128b5-a9f3-4307-89cb-c95f5a227f67",
   "metadata": {},
   "outputs": [
    {
     "name": "stderr",
     "output_type": "stream",
     "text": [
      "C:\\Users\\User\\AppData\\Local\\Temp\\ipykernel_10332\\1437275780.py:2: FutureWarning: The default of observed=False is deprecated and will be changed to True in a future version of pandas. Pass observed=False to retain current behavior or observed=True to adopt the future default and silence this warning.\n",
      "  sample_size = df.groupby('treatment_group').size().reset_index(name='sample_size')\n"
     ]
    },
    {
     "data": {
      "text/html": [
       "<div>\n",
       "<style scoped>\n",
       "    .dataframe tbody tr th:only-of-type {\n",
       "        vertical-align: middle;\n",
       "    }\n",
       "\n",
       "    .dataframe tbody tr th {\n",
       "        vertical-align: top;\n",
       "    }\n",
       "\n",
       "    .dataframe thead th {\n",
       "        text-align: right;\n",
       "    }\n",
       "</style>\n",
       "<table border=\"1\" class=\"dataframe\">\n",
       "  <thead>\n",
       "    <tr style=\"text-align: right;\">\n",
       "      <th></th>\n",
       "      <th>treatment_group</th>\n",
       "      <th>sample_size</th>\n",
       "    </tr>\n",
       "  </thead>\n",
       "  <tbody>\n",
       "    <tr>\n",
       "      <th>0</th>\n",
       "      <td>A</td>\n",
       "      <td>10</td>\n",
       "    </tr>\n",
       "    <tr>\n",
       "      <th>1</th>\n",
       "      <td>B</td>\n",
       "      <td>10</td>\n",
       "    </tr>\n",
       "  </tbody>\n",
       "</table>\n",
       "</div>"
      ],
      "text/plain": [
       "  treatment_group  sample_size\n",
       "0               A           10\n",
       "1               B           10"
      ]
     },
     "execution_count": 32,
     "metadata": {},
     "output_type": "execute_result"
    }
   ],
   "source": [
    "# Calculate the sample size of each treatment group\n",
    "sample_size = df.groupby('treatment_group').size().reset_index(name='sample_size')\n",
    "\n",
    "sample_size\n"
   ]
  },
  {
   "cell_type": "code",
   "execution_count": 33,
   "id": "39a8ef2b-1409-4c4e-bea1-4b530ad38aad",
   "metadata": {},
   "outputs": [
    {
     "data": {
      "text/plain": [
       "(np.float64(-2.396519695714166), np.float64(0.027623442201048568))"
      ]
     },
     "execution_count": 33,
     "metadata": {},
     "output_type": "execute_result"
    }
   ],
   "source": [
    "from scipy import stats\n",
    "\n",
    "# Extract blood pressure values for each group\n",
    "group_A_blood_pressure = df[df['treatment_group'] == 'A']['blood_pressure']\n",
    "group_B_blood_pressure = df[df['treatment_group'] == 'B']['blood_pressure']\n",
    "\n",
    "# Perform t-test between group A and group B\n",
    "t_stat, p_value = stats.ttest_ind(group_A_blood_pressure, group_B_blood_pressure)\n",
    "\n",
    "t_stat, p_value\n"
   ]
  },
  {
   "cell_type": "code",
   "execution_count": 34,
   "id": "b3434096-cc34-4a0c-b714-3e2561da2495",
   "metadata": {},
   "outputs": [
    {
     "data": {
      "text/html": [
       "<div>\n",
       "<style scoped>\n",
       "    .dataframe tbody tr th:only-of-type {\n",
       "        vertical-align: middle;\n",
       "    }\n",
       "\n",
       "    .dataframe tbody tr th {\n",
       "        vertical-align: top;\n",
       "    }\n",
       "\n",
       "    .dataframe thead th {\n",
       "        text-align: right;\n",
       "    }\n",
       "</style>\n",
       "<table border=\"1\" class=\"dataframe\">\n",
       "  <thead>\n",
       "    <tr style=\"text-align: right;\">\n",
       "      <th></th>\n",
       "      <th>patient_id</th>\n",
       "      <th>age</th>\n",
       "      <th>blood_pressure</th>\n",
       "    </tr>\n",
       "  </thead>\n",
       "  <tbody>\n",
       "    <tr>\n",
       "      <th>count</th>\n",
       "      <td>20.00000</td>\n",
       "      <td>20.000000</td>\n",
       "      <td>20.00000</td>\n",
       "    </tr>\n",
       "    <tr>\n",
       "      <th>mean</th>\n",
       "      <td>10.50000</td>\n",
       "      <td>49.000000</td>\n",
       "      <td>132.90000</td>\n",
       "    </tr>\n",
       "    <tr>\n",
       "      <th>std</th>\n",
       "      <td>5.91608</td>\n",
       "      <td>9.136393</td>\n",
       "      <td>7.09262</td>\n",
       "    </tr>\n",
       "    <tr>\n",
       "      <th>min</th>\n",
       "      <td>1.00000</td>\n",
       "      <td>34.000000</td>\n",
       "      <td>120.00000</td>\n",
       "    </tr>\n",
       "    <tr>\n",
       "      <th>25%</th>\n",
       "      <td>5.75000</td>\n",
       "      <td>41.750000</td>\n",
       "      <td>128.75000</td>\n",
       "    </tr>\n",
       "    <tr>\n",
       "      <th>50%</th>\n",
       "      <td>10.50000</td>\n",
       "      <td>48.500000</td>\n",
       "      <td>133.50000</td>\n",
       "    </tr>\n",
       "    <tr>\n",
       "      <th>75%</th>\n",
       "      <td>15.25000</td>\n",
       "      <td>55.500000</td>\n",
       "      <td>137.25000</td>\n",
       "    </tr>\n",
       "    <tr>\n",
       "      <th>max</th>\n",
       "      <td>20.00000</td>\n",
       "      <td>65.000000</td>\n",
       "      <td>145.00000</td>\n",
       "    </tr>\n",
       "  </tbody>\n",
       "</table>\n",
       "</div>"
      ],
      "text/plain": [
       "       patient_id        age  blood_pressure\n",
       "count    20.00000  20.000000        20.00000\n",
       "mean     10.50000  49.000000       132.90000\n",
       "std       5.91608   9.136393         7.09262\n",
       "min       1.00000  34.000000       120.00000\n",
       "25%       5.75000  41.750000       128.75000\n",
       "50%      10.50000  48.500000       133.50000\n",
       "75%      15.25000  55.500000       137.25000\n",
       "max      20.00000  65.000000       145.00000"
      ]
     },
     "execution_count": 34,
     "metadata": {},
     "output_type": "execute_result"
    }
   ],
   "source": [
    "# Statistical summary of the dataset\n",
    "statistical_summary = df.describe()\n",
    "\n",
    "statistical_summary\n"
   ]
  },
  {
   "cell_type": "markdown",
   "id": "6894ce04-41d2-46aa-b70d-3b97bdb47430",
   "metadata": {},
   "source": [
    "We have two groups: A and B, based on the \"treatment_group\" column.\n",
    "Null Hypothesis (H₀): There is no significant difference in the mean outcomes (or blood pressure) between groups A and B.\n",
    "The results of the t-test comparing blood pressure between treatment groups A and B are as follows:\n",
    "T-statistic: -2.40\n",
    "P-value: 0.028\n",
    "Since the p-value (0.028) is less than the common significance level of 0.05, we reject the null hypothesis.\n",
    "This suggests a statistically significant difference in the mean blood pressure between treatment groups A and B.\n",
    "\n",
    "There is an equal distribution of patients between groups A and B, as well as between genders.\n",
    "Blood pressure varies between groups, with group B having slightly higher average blood pressure. The t-test suggests that this difference is statistically significant.\n",
    "Both treatment groups show more positive outcomes than negative outcomes. Still, the gender distribution of outcomes is slightly skewed, with males having a slightly higher proportion of positive outcomes than females."
   ]
  }
 ],
 "metadata": {
  "kernelspec": {
   "display_name": "Python 3 (ipykernel)",
   "language": "python",
   "name": "python3"
  },
  "language_info": {
   "codemirror_mode": {
    "name": "ipython",
    "version": 3
   },
   "file_extension": ".py",
   "mimetype": "text/x-python",
   "name": "python",
   "nbconvert_exporter": "python",
   "pygments_lexer": "ipython3",
   "version": "3.12.3"
  }
 },
 "nbformat": 4,
 "nbformat_minor": 5
}
